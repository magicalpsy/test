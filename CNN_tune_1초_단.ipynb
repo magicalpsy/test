{
  "nbformat": 4,
  "nbformat_minor": 0,
  "metadata": {
    "colab": {
      "name": "CNN_tune_1초 단",
      "provenance": [],
      "collapsed_sections": []
    },
    "kernelspec": {
      "name": "python3",
      "display_name": "Python 3"
    },
    "accelerator": "GPU"
  },
  "cells": [
    {
      "cell_type": "code",
      "metadata": {
        "id": "0og7McSqJn1X",
        "colab_type": "code",
        "colab": {}
      },
      "source": [
        "import numpy as np\n",
        "import pandas as pd\n",
        "import glob\n",
        "import os\n",
        "import matplotlib.pyplot as plt\n",
        "from sklearn.preprocessing import minmax_scale\n",
        "import seaborn as sns\n",
        "import cv2"
      ],
      "execution_count": 99,
      "outputs": []
    },
    {
      "cell_type": "code",
      "metadata": {
        "id": "e_ifT7INLIiJ",
        "colab_type": "code",
        "colab": {}
      },
      "source": [
        "import tensorflow.keras as keras\n",
        "import tensorflow as tf\n",
        "from tensorflow.keras import backend as K\n",
        "from tensorflow.keras import models\n",
        "from tensorflow.keras import layers\n",
        "from tensorflow.keras.models import Sequential\n",
        "from tensorflow.keras import optimizers\n",
        "from tensorflow.keras.layers import Dense, Activation, Flatten, Conv2D, MaxPooling2D\n",
        "from tensorflow.keras.layers import BatchNormalization, Dropout\n",
        "from tensorflow.keras.optimizers import Adam\n",
        "from tensorflow.keras.regularizers import l2\n",
        "from tensorflow.keras.preprocessing import image\n",
        "from PIL import Image"
      ],
      "execution_count": 100,
      "outputs": []
    },
    {
      "cell_type": "code",
      "metadata": {
        "id": "QBI2cGQULM9W",
        "colab_type": "code",
        "colab": {}
      },
      "source": [
        "# sample_file=r'/content/drive/My Drive/WORK/merge_NR5G_DL.csv'\n",
        "# sample_file=r'/content/drive/My Drive/WORK/1910_2003_5G_NQI_preprocessed.csv'\n",
        "sample_file=r'/content/drive/My Drive/WORK/New_road_train_Month6_NR5G_DL.csv'\n",
        "dataCombine = pd.read_csv(sample_file, encoding='ISO-8859-1')"
      ],
      "execution_count": 101,
      "outputs": []
    },
    {
      "cell_type": "code",
      "metadata": {
        "id": "D0dgFVVPLT9b",
        "colab_type": "code",
        "colab": {}
      },
      "source": [
        "# ctq_anaysis_merge_list= dataCombine[['call_id','serving_network','call_type','total_call_state','nr5g_Rsrp','nr5g_Rsrq','nr5g_Sinr','nr5g_TxPwrTotal_Actual','nr5g_Pdsch_Bler','nr5g_pc_pusch_bler','nr5g_DlMcs_Ant0_Avg','data_ex_rx_thravg','data_ftp_rx_tp']]\n",
        "ctq_anaysis_merge_list= dataCombine[['call_id','serving_network','sampled_time' , 'call_type','total_call_state','nr5g_Rsrp','nr5g_Sinr','nr5g_TxPwrTotal_Actual','nr5g_Pdsch_Bler','nr5g_pc_pusch_bler','nr5g_DlMcs_Ant0_Avg','nr5g_Rx_NumOfRb_Avg','nr5g_UlMcs_Avg','data_ex_rx_thravg','data_ftp_rx_tp']]"
      ],
      "execution_count": 102,
      "outputs": []
    },
    {
      "cell_type": "code",
      "metadata": {
        "id": "prkyuS16qp2F",
        "colab_type": "code",
        "colab": {}
      },
      "source": [
        "ctq_anaysis_merge_list = ctq_anaysis_merge_list[ctq_anaysis_merge_list['total_call_state'] != 'Idle']\n",
        "ctq_anaysis_merge_list = ctq_anaysis_merge_list[ctq_anaysis_merge_list['total_call_state'] != 'Setup']\n",
        "ctq_anaysis_merge_list = ctq_anaysis_merge_list[ctq_anaysis_merge_list['total_call_state'] != 'In-Traffic']\n",
        "ctq_anaysis_merge_list = ctq_anaysis_merge_list[ctq_anaysis_merge_list['call_type'] != 'U']\n",
        "ctq_anaysis_merge_list.reset_index(drop=True, inplace=True)\n",
        "ctq_anaysis_merge_list['result'] = 0\n",
        "# ctq_anaysis_merge_list.loc[ctq_anaysis_merge_list['data_ex_rx_thravg'] < 12, 'result'] = 0\n",
        "ctq_anaysis_merge_list.loc[ctq_anaysis_merge_list['data_ftp_rx_tp'] < 200, 'result'] = 1"
      ],
      "execution_count": 103,
      "outputs": []
    },
    {
      "cell_type": "code",
      "metadata": {
        "id": "XXjeByYR_dts",
        "colab_type": "code",
        "colab": {}
      },
      "source": [
        "ctq_anaysis_merge_list.dropna(subset = ctq_anaysis_merge_list.columns, axis = 0, inplace = True)\n",
        "ok_frame = ctq_anaysis_merge_list.loc[ctq_anaysis_merge_list['result'] == 0]\n",
        "fail_frame = ctq_anaysis_merge_list.loc[ctq_anaysis_merge_list['result'] == 1]\n",
        "ok_frame = ok_frame[ok_frame['data_ftp_rx_tp'] > 600]"
      ],
      "execution_count": 104,
      "outputs": []
    },
    {
      "cell_type": "code",
      "metadata": {
        "id": "kN3uuz53_-H5",
        "colab_type": "code",
        "colab": {}
      },
      "source": [
        "cut_list = ok_frame.append(fail_frame)\n",
        "cut_list.reset_index(drop=True, inplace=True)"
      ],
      "execution_count": 105,
      "outputs": []
    },
    {
      "cell_type": "code",
      "metadata": {
        "id": "5e3QtMbDgRuC",
        "colab_type": "code",
        "colab": {
          "base_uri": "https://localhost:8080/",
          "height": 70
        },
        "outputId": "793916db-b75a-45b9-f08a-2143f3d49585"
      },
      "source": [
        "cut_list['result'].value_counts()"
      ],
      "execution_count": 13,
      "outputs": [
        {
          "output_type": "execute_result",
          "data": {
            "text/plain": [
              "1    69902\n",
              "0    66888\n",
              "Name: result, dtype: int64"
            ]
          },
          "metadata": {
            "tags": []
          },
          "execution_count": 13
        }
      ]
    },
    {
      "cell_type": "code",
      "metadata": {
        "id": "v9mzfoYkAcCM",
        "colab_type": "code",
        "colab": {
          "base_uri": "https://localhost:8080/",
          "height": 304
        },
        "outputId": "be2dfcdf-fa2a-4705-f935-15043952a054"
      },
      "source": [
        "cut_list.loc[cut_list['result'] == 1, : ].describe()"
      ],
      "execution_count": 113,
      "outputs": [
        {
          "output_type": "execute_result",
          "data": {
            "text/html": [
              "<div>\n",
              "<style scoped>\n",
              "    .dataframe tbody tr th:only-of-type {\n",
              "        vertical-align: middle;\n",
              "    }\n",
              "\n",
              "    .dataframe tbody tr th {\n",
              "        vertical-align: top;\n",
              "    }\n",
              "\n",
              "    .dataframe thead th {\n",
              "        text-align: right;\n",
              "    }\n",
              "</style>\n",
              "<table border=\"1\" class=\"dataframe\">\n",
              "  <thead>\n",
              "    <tr style=\"text-align: right;\">\n",
              "      <th></th>\n",
              "      <th>nr5g_Rsrp</th>\n",
              "      <th>nr5g_Sinr</th>\n",
              "      <th>nr5g_TxPwrTotal_Actual</th>\n",
              "      <th>nr5g_Pdsch_Bler</th>\n",
              "      <th>nr5g_pc_pusch_bler</th>\n",
              "      <th>nr5g_DlMcs_Ant0_Avg</th>\n",
              "      <th>nr5g_Rx_NumOfRb_Avg</th>\n",
              "      <th>nr5g_UlMcs_Avg</th>\n",
              "      <th>data_ex_rx_thravg</th>\n",
              "      <th>data_ftp_rx_tp</th>\n",
              "      <th>result</th>\n",
              "    </tr>\n",
              "  </thead>\n",
              "  <tbody>\n",
              "    <tr>\n",
              "      <th>count</th>\n",
              "      <td>69902.000000</td>\n",
              "      <td>69902.000000</td>\n",
              "      <td>69902.000000</td>\n",
              "      <td>69902.000000</td>\n",
              "      <td>69902.000000</td>\n",
              "      <td>69902.000000</td>\n",
              "      <td>69902.000000</td>\n",
              "      <td>69902.000000</td>\n",
              "      <td>69902.000000</td>\n",
              "      <td>69902.000000</td>\n",
              "      <td>69902.0</td>\n",
              "    </tr>\n",
              "    <tr>\n",
              "      <th>mean</th>\n",
              "      <td>-84.159991</td>\n",
              "      <td>5.724289</td>\n",
              "      <td>16.134029</td>\n",
              "      <td>10.395062</td>\n",
              "      <td>13.934417</td>\n",
              "      <td>12.434063</td>\n",
              "      <td>208.580227</td>\n",
              "      <td>17.954306</td>\n",
              "      <td>158.753382</td>\n",
              "      <td>93.761211</td>\n",
              "      <td>1.0</td>\n",
              "    </tr>\n",
              "    <tr>\n",
              "      <th>std</th>\n",
              "      <td>9.161818</td>\n",
              "      <td>6.837977</td>\n",
              "      <td>9.042858</td>\n",
              "      <td>7.136573</td>\n",
              "      <td>11.920426</td>\n",
              "      <td>5.343424</td>\n",
              "      <td>60.739500</td>\n",
              "      <td>5.923266</td>\n",
              "      <td>113.050697</td>\n",
              "      <td>62.060184</td>\n",
              "      <td>0.0</td>\n",
              "    </tr>\n",
              "    <tr>\n",
              "      <th>min</th>\n",
              "      <td>-130.650000</td>\n",
              "      <td>-21.860000</td>\n",
              "      <td>-42.500000</td>\n",
              "      <td>0.000000</td>\n",
              "      <td>0.000000</td>\n",
              "      <td>0.000000</td>\n",
              "      <td>8.000000</td>\n",
              "      <td>0.000000</td>\n",
              "      <td>0.000000</td>\n",
              "      <td>0.000000</td>\n",
              "      <td>1.0</td>\n",
              "    </tr>\n",
              "    <tr>\n",
              "      <th>25%</th>\n",
              "      <td>-90.030000</td>\n",
              "      <td>0.580000</td>\n",
              "      <td>10.300000</td>\n",
              "      <td>7.072000</td>\n",
              "      <td>9.555000</td>\n",
              "      <td>8.806000</td>\n",
              "      <td>185.000000</td>\n",
              "      <td>14.699000</td>\n",
              "      <td>74.085750</td>\n",
              "      <td>39.536000</td>\n",
              "      <td>1.0</td>\n",
              "    </tr>\n",
              "    <tr>\n",
              "      <th>50%</th>\n",
              "      <td>-83.620000</td>\n",
              "      <td>5.160000</td>\n",
              "      <td>22.000000</td>\n",
              "      <td>9.677000</td>\n",
              "      <td>12.286000</td>\n",
              "      <td>12.629000</td>\n",
              "      <td>225.000000</td>\n",
              "      <td>18.735500</td>\n",
              "      <td>137.933000</td>\n",
              "      <td>91.336000</td>\n",
              "      <td>1.0</td>\n",
              "    </tr>\n",
              "    <tr>\n",
              "      <th>75%</th>\n",
              "      <td>-77.910000</td>\n",
              "      <td>10.450000</td>\n",
              "      <td>23.000000</td>\n",
              "      <td>13.067000</td>\n",
              "      <td>14.711000</td>\n",
              "      <td>16.057750</td>\n",
              "      <td>255.000000</td>\n",
              "      <td>22.094000</td>\n",
              "      <td>223.247000</td>\n",
              "      <td>148.700000</td>\n",
              "      <td>1.0</td>\n",
              "    </tr>\n",
              "    <tr>\n",
              "      <th>max</th>\n",
              "      <td>-47.100000</td>\n",
              "      <td>24.990000</td>\n",
              "      <td>23.000000</td>\n",
              "      <td>100.000000</td>\n",
              "      <td>100.000000</td>\n",
              "      <td>26.842000</td>\n",
              "      <td>273.000000</td>\n",
              "      <td>29.684000</td>\n",
              "      <td>732.695000</td>\n",
              "      <td>199.998000</td>\n",
              "      <td>1.0</td>\n",
              "    </tr>\n",
              "  </tbody>\n",
              "</table>\n",
              "</div>"
            ],
            "text/plain": [
              "          nr5g_Rsrp     nr5g_Sinr  ...  data_ftp_rx_tp   result\n",
              "count  69902.000000  69902.000000  ...    69902.000000  69902.0\n",
              "mean     -84.159991      5.724289  ...       93.761211      1.0\n",
              "std        9.161818      6.837977  ...       62.060184      0.0\n",
              "min     -130.650000    -21.860000  ...        0.000000      1.0\n",
              "25%      -90.030000      0.580000  ...       39.536000      1.0\n",
              "50%      -83.620000      5.160000  ...       91.336000      1.0\n",
              "75%      -77.910000     10.450000  ...      148.700000      1.0\n",
              "max      -47.100000     24.990000  ...      199.998000      1.0\n",
              "\n",
              "[8 rows x 11 columns]"
            ]
          },
          "metadata": {
            "tags": []
          },
          "execution_count": 113
        }
      ]
    },
    {
      "cell_type": "code",
      "metadata": {
        "id": "NxfGBlmvzdjy",
        "colab_type": "code",
        "colab": {}
      },
      "source": [
        "train_x = cut_list.drop(['call_id','sampled_time' ,'serving_network','call_type','total_call_state','result','data_ftp_rx_tp','data_ex_rx_thravg'],axis=1)\n",
        "train_y = cut_list['result']"
      ],
      "execution_count": 14,
      "outputs": []
    },
    {
      "cell_type": "code",
      "metadata": {
        "id": "b7gCpMkuLazm",
        "colab_type": "code",
        "colab": {}
      },
      "source": [
        "TIME_STEPS = 1\n",
        "INPUT_DIM  = train_x.shape[1]\n",
        "x_scale = minmax_scale(train_x, axis=0, copy=True)\n",
        "y_scale = minmax_scale(train_y, axis=0, copy=True)\n",
        "x_scale=x_scale.reshape(-1,TIME_STEPS,INPUT_DIM,1)"
      ],
      "execution_count": 15,
      "outputs": []
    },
    {
      "cell_type": "code",
      "metadata": {
        "id": "C_WwjKmfMePZ",
        "colab_type": "code",
        "colab": {}
      },
      "source": [
        "K.clear_session()\n",
        "model1 = Sequential()\n",
        "model1.add(Conv2D(128, 1, input_shape=(TIME_STEPS, INPUT_DIM, 1),activation='relu'))\n",
        "model1.add(Conv2D(128, 1,activation='relu'))\n",
        "model1.add(BatchNormalization())\n",
        "model1.add(Conv2D(256, 1,activation='relu'))\n",
        "model1.add(Conv2D(256, 1,activation='relu'))\n",
        "model1.add(BatchNormalization())\n",
        "model1.add(Conv2D(512, 1,activation='relu'))\n",
        "model1.add(Conv2D(512, 1,activation='relu'))\n",
        "model1.add(Flatten())\n",
        "model1.add(Dense(4096, activation='relu'))\n",
        "model1.add(Dense(1024, activation='relu'))\n",
        "model1.add(BatchNormalization())\n",
        "model1.add(Dense(2, activation='softmax'))\n",
        "model1.compile(loss=tf.keras.losses.sparse_categorical_crossentropy, \n",
        "               metrics=['accuracy'], optimizer=Adam())"
      ],
      "execution_count": 16,
      "outputs": []
    },
    {
      "cell_type": "code",
      "metadata": {
        "id": "lL0LpW7hMk1r",
        "colab_type": "code",
        "colab": {
          "base_uri": "https://localhost:8080/",
          "height": 406
        },
        "outputId": "dd6b17d2-8d5c-491e-b3e6-0edd96f02bc2"
      },
      "source": [
        "from tensorflow.keras.callbacks import EarlyStopping\n",
        "early_stop = EarlyStopping(monitor='val_loss', patience=5, verbose=1)\n",
        "model1.fit(x=x_scale, y=train_y, validation_split=0.2, epochs=10000, callbacks=[early_stop])"
      ],
      "execution_count": 88,
      "outputs": [
        {
          "output_type": "stream",
          "text": [
            "Epoch 1/10000\n",
            "   1/3420 [..............................] - ETA: 0s - loss: 0.0565 - accuracy: 1.0000WARNING:tensorflow:Callbacks method `on_train_batch_end` is slow compared to the batch time (batch time: 0.0084s vs `on_train_batch_end` time: 0.0127s). Check your callbacks.\n",
            "3420/3420 [==============================] - 59s 17ms/step - loss: 0.0954 - accuracy: 0.9688 - val_loss: 0.0400 - val_accuracy: 0.9838\n",
            "Epoch 2/10000\n",
            "3420/3420 [==============================] - 58s 17ms/step - loss: 0.0921 - accuracy: 0.9696 - val_loss: 0.0754 - val_accuracy: 0.9700\n",
            "Epoch 3/10000\n",
            "3420/3420 [==============================] - 58s 17ms/step - loss: 0.0917 - accuracy: 0.9693 - val_loss: 0.0909 - val_accuracy: 0.9656\n",
            "Epoch 4/10000\n",
            "3420/3420 [==============================] - 59s 17ms/step - loss: 0.0910 - accuracy: 0.9695 - val_loss: 0.0377 - val_accuracy: 0.9846\n",
            "Epoch 5/10000\n",
            "3420/3420 [==============================] - 58s 17ms/step - loss: 0.0889 - accuracy: 0.9706 - val_loss: 0.2153 - val_accuracy: 0.9296\n",
            "Epoch 6/10000\n",
            "3420/3420 [==============================] - 59s 17ms/step - loss: 0.0880 - accuracy: 0.9710 - val_loss: 0.1249 - val_accuracy: 0.9531\n",
            "Epoch 7/10000\n",
            "3420/3420 [==============================] - 59s 17ms/step - loss: 0.0868 - accuracy: 0.9711 - val_loss: 0.1526 - val_accuracy: 0.9596\n",
            "Epoch 8/10000\n",
            "3420/3420 [==============================] - 59s 17ms/step - loss: 0.0872 - accuracy: 0.9711 - val_loss: 0.1134 - val_accuracy: 0.9573\n",
            "Epoch 9/10000\n",
            "3420/3420 [==============================] - 59s 17ms/step - loss: 0.0854 - accuracy: 0.9717 - val_loss: 0.1778 - val_accuracy: 0.9508\n",
            "Epoch 00009: early stopping\n"
          ],
          "name": "stdout"
        },
        {
          "output_type": "execute_result",
          "data": {
            "text/plain": [
              "<tensorflow.python.keras.callbacks.History at 0x7fc910530c88>"
            ]
          },
          "metadata": {
            "tags": []
          },
          "execution_count": 88
        }
      ]
    },
    {
      "cell_type": "code",
      "metadata": {
        "id": "IvXXe32ytNXS",
        "colab_type": "code",
        "colab": {}
      },
      "source": [
        "model1.save(r'/content/drive/My Drive/WORK/New_featureanal.h5')"
      ],
      "execution_count": 18,
      "outputs": []
    },
    {
      "cell_type": "code",
      "metadata": {
        "id": "WB0oTPmJMory",
        "colab_type": "code",
        "colab": {}
      },
      "source": [
        "def load_image(path, target_size=(224, 224)):\n",
        "    x = image.load_img(path, target_size=target_size)\n",
        "    x = image.img_to_array(x)\n",
        "    x = np.expand_dims(x, axis=0)\n",
        "    x = preprocess_input(x)\n",
        "    return x\n",
        "\n",
        "def generate_gradcam(img_tensor, model, class_index, activation_layer):\n",
        "    model_input = model1.input\n",
        "\n",
        "    # y_c : class_index에 해당하는 CNN 마지막 layer op(softmax, linear, ...)의 입력\n",
        "    y_c = model.outputs[0].op.inputs[0][0, class_index]\n",
        "\n",
        "    # A_k: activation conv layer의 출력 feature map\n",
        "    A_k = model.get_layer(activation_layer).output\n",
        "\n",
        "    # model의 입력에 대해서,\n",
        "    # activation conv layer의 출력(A_k)과\n",
        "    # 최종 layer activation 입력(y_c)의 A_k에 대한 gradient,\n",
        "    # 모델의 최종 출력(prediction) 계산\n",
        "    grad_model = tf.keras.models.Model([model1.inputs], [model1.get_layer(conv_name).output, model1.output])\n",
        "    with tf.GradientTape() as tape:\n",
        "        conv_outputs, predictions = grad_model([img_tensor])\n",
        "        loss = predictions[:, 1]\n",
        "    conv_output = conv_outputs[0]\n",
        "    grad_val = tape.gradient(loss, conv_outputs)[0]\n",
        "    \n",
        "    # get_output = K.function([model_input], [A_k, K.gradients(y_c, A_k)[0]])\n",
        "    # [conv_output, grad_val] = get_output([img_tensor])\n",
        "\n",
        "    # batch size가 포함되어 shape가 (1, width, height, k)이므로\n",
        "    # (width, height, k)로 shape 변경\n",
        "    # 여기서 width, height는 activation conv layer인 A_k feature map의 width와 height를 의미함\n",
        "    # conv_output = conv_output[0]\n",
        "    # grad_val = grad_val[0]\n",
        "\n",
        "    # global average pooling 연산\n",
        "    # gradient의 width, height에 대해 평균을 구해서(1/Z) weights(a^c_k) 계산\n",
        "    weights = np.mean(grad_val, axis=(0, 1))\n",
        "\n",
        "    # activation conv layer의 출력 feature map(conv_output)과\n",
        "    # class_index에 해당하는 weights(a^c_k)를 k에 대응해서 weighted combination 계산\n",
        "\n",
        "    # feature map(conv_output)의 (width, height)로 초기화\n",
        "    grad_cam = np.zeros(dtype=np.float32, shape=conv_output.shape[0:2])\n",
        "    # print(weights)\n",
        "    for k, w in enumerate(weights):\n",
        "        grad_cam += w * conv_output[:, :, k]\n",
        "\n",
        "    # 계산된 weighted combination 에 ReLU 적용\n",
        "    grad_cam = np.maximum(grad_cam, 0)\n",
        "    # print(grad_cam)\n",
        "    return grad_cam, weights"
      ],
      "execution_count": 19,
      "outputs": []
    },
    {
      "cell_type": "code",
      "metadata": {
        "id": "RkKI7PUEwGBt",
        "colab_type": "code",
        "colab": {}
      },
      "source": [
        "test_file = r'/content/drive/My Drive/WORK/202007_NQI_도로_수도권_KT_NR5G_FTP_DL.csv'\n",
        "testCombine = pd.read_csv(sample_file, encoding='ISO-8859-1')"
      ],
      "execution_count": 20,
      "outputs": []
    },
    {
      "cell_type": "code",
      "metadata": {
        "id": "MadJuqulSlZz",
        "colab_type": "code",
        "colab": {
          "base_uri": "https://localhost:8080/",
          "height": 34
        },
        "outputId": "966c89c9-1375-44b9-bb0f-b22cbb5d713f"
      },
      "source": [
        "from sklearn.preprocessing import MinMaxScaler\n",
        "scaler = MinMaxScaler()\n",
        "scaler.fit(train_x)"
      ],
      "execution_count": 21,
      "outputs": [
        {
          "output_type": "execute_result",
          "data": {
            "text/plain": [
              "MinMaxScaler(copy=True, feature_range=(0, 1))"
            ]
          },
          "metadata": {
            "tags": []
          },
          "execution_count": 21
        }
      ]
    },
    {
      "cell_type": "code",
      "metadata": {
        "id": "80nJflkbSmub",
        "colab_type": "code",
        "colab": {}
      },
      "source": [
        "test_list = testCombine[['call_id','serving_network','sampled_time' , 'call_type','total_call_state','nr5g_Rsrp','nr5g_Sinr','nr5g_TxPwrTotal_Actual','nr5g_Pdsch_Bler','nr5g_pc_pusch_bler','nr5g_DlMcs_Ant0_Avg','nr5g_Rx_NumOfRb_Avg','nr5g_UlMcs_Avg','data_ex_rx_thravg','data_ftp_rx_tp']]\n",
        "test_list = test_list[test_list['total_call_state'] != 'Idle']\n",
        "test_list = test_list[test_list['total_call_state'] != 'Setup']\n",
        "test_list = test_list[test_list['total_call_state'] != 'In-Traffic']\n",
        "test_list = test_list[test_list['call_type'] != 'U']\n",
        "test_list.reset_index(drop=True, inplace=True)\n",
        "test_list['result'] = 0\n",
        "# ctq_anaysis_merge_list.loc[ctq_anaysis_merge_list['data_ex_rx_thravg'] < 12, 'result'] = 0\n",
        "test_list.loc[test_list['data_ftp_rx_tp'] < 200, 'result'] = 1"
      ],
      "execution_count": 22,
      "outputs": []
    },
    {
      "cell_type": "code",
      "metadata": {
        "id": "Iubk26loSq0M",
        "colab_type": "code",
        "colab": {
          "base_uri": "https://localhost:8080/",
          "height": 122
        },
        "outputId": "f5bf8344-2902-4f5f-9b6a-8158b39c7b6e"
      },
      "source": [
        "test_drop_list = test_list.drop(['call_id','sampled_time' ,'serving_network','call_type','total_call_state','result','data_ftp_rx_tp','data_ex_rx_thravg'],axis=1)\n",
        "test_drop_scale = scaler.transform(test_drop_list)\n",
        "test_y = test_list['result']\n",
        "test_y[test_y == 1].index"
      ],
      "execution_count": 23,
      "outputs": [
        {
          "output_type": "execute_result",
          "data": {
            "text/plain": [
              "Int64Index([     1,      5,      6,     12,     13,     14,     15,     16,\n",
              "                17,     20,\n",
              "            ...\n",
              "            335748, 335749, 335750, 335756, 335816, 335817, 335818, 335819,\n",
              "            335820, 335825],\n",
              "           dtype='int64', length=86524)"
            ]
          },
          "metadata": {
            "tags": []
          },
          "execution_count": 23
        }
      ]
    },
    {
      "cell_type": "code",
      "metadata": {
        "id": "3vg85W_gSsD8",
        "colab_type": "code",
        "colab": {}
      },
      "source": [
        "test_drop_reshape = test_drop_scale.reshape(-1,TIME_STEPS,INPUT_DIM,1)\n",
        "test_pred = model1.predict(test_drop_reshape)"
      ],
      "execution_count": 24,
      "outputs": []
    },
    {
      "cell_type": "code",
      "metadata": {
        "id": "zBBufSb1StZ4",
        "colab_type": "code",
        "colab": {
          "base_uri": "https://localhost:8080/",
          "height": 175
        },
        "outputId": "9d972256-48d7-4db7-8509-88659d31a828"
      },
      "source": [
        "from sklearn.metrics import classification_report\n",
        "# confusion_matrix(train_y, y_pred.argmax(axis=1))\n",
        "# classfication_report(train_y, y_pred.argmax(axis=1))\n",
        "print(classification_report(test_y, test_pred.argmax(axis=1)))"
      ],
      "execution_count": 25,
      "outputs": [
        {
          "output_type": "stream",
          "text": [
            "              precision    recall  f1-score   support\n",
            "\n",
            "           0       0.96      0.83      0.89    249317\n",
            "           1       0.65      0.91      0.76     86524\n",
            "\n",
            "    accuracy                           0.85    335841\n",
            "   macro avg       0.81      0.87      0.83    335841\n",
            "weighted avg       0.88      0.85      0.86    335841\n",
            "\n"
          ],
          "name": "stdout"
        }
      ]
    },
    {
      "cell_type": "code",
      "metadata": {
        "id": "urUN7cyKSvDR",
        "colab_type": "code",
        "colab": {
          "base_uri": "https://localhost:8080/",
          "height": 386
        },
        "outputId": "eabeb861-9070-48b5-88a5-824556410768"
      },
      "source": [
        "conv_name = 'conv2d_5'\n",
        "grad_cam_total = []\n",
        "for index, y_data in enumerate(test_y):\n",
        "    grad_cam_data = test_drop_scale[index]\n",
        "    grad_cam_data = grad_cam_data.reshape(-1,TIME_STEPS,INPUT_DIM,1)\n",
        "    grad_cam, grad_val = generate_gradcam(grad_cam_data, model1, y_data, conv_name)\n",
        "    grad_cam_total.append(grad_cam)\n",
        "    if (index % 1000) == 0:\n",
        "        print(index, len(test_y))\n",
        "\n",
        "    if ((index+1) % 20000) == 0:\n",
        "        print(\"종료\")\n",
        "        break;"
      ],
      "execution_count": 71,
      "outputs": [
        {
          "output_type": "stream",
          "text": [
            "0 335841\n",
            "1000 335841\n",
            "2000 335841\n",
            "3000 335841\n",
            "4000 335841\n",
            "5000 335841\n",
            "6000 335841\n",
            "7000 335841\n",
            "8000 335841\n",
            "9000 335841\n",
            "10000 335841\n",
            "11000 335841\n",
            "12000 335841\n",
            "13000 335841\n",
            "14000 335841\n",
            "15000 335841\n",
            "16000 335841\n",
            "17000 335841\n",
            "18000 335841\n",
            "19000 335841\n",
            "종료\n"
          ],
          "name": "stdout"
        }
      ]
    },
    {
      "cell_type": "code",
      "metadata": {
        "id": "WGZziXJGT-Dn",
        "colab_type": "code",
        "colab": {
          "base_uri": "https://localhost:8080/",
          "height": 34
        },
        "outputId": "cff42777-9787-4704-a032-fec7837196c7"
      },
      "source": [
        "len(grad_cam_total)"
      ],
      "execution_count": 81,
      "outputs": [
        {
          "output_type": "execute_result",
          "data": {
            "text/plain": [
              "20000"
            ]
          },
          "metadata": {
            "tags": []
          },
          "execution_count": 81
        }
      ]
    },
    {
      "cell_type": "code",
      "metadata": {
        "id": "4xuTYYP9Zh1A",
        "colab_type": "code",
        "colab": {
          "base_uri": "https://localhost:8080/",
          "height": 140
        },
        "outputId": "90e63981-1c8c-4493-b950-c6c8a642902e"
      },
      "source": [
        "np.array(grad_cam_total).argmax(axis=1)"
      ],
      "execution_count": 82,
      "outputs": [
        {
          "output_type": "execute_result",
          "data": {
            "text/plain": [
              "array([[0, 0, 0, ..., 0, 0, 0],\n",
              "       [0, 0, 0, ..., 0, 0, 0],\n",
              "       [0, 0, 0, ..., 0, 0, 0],\n",
              "       ...,\n",
              "       [0, 0, 0, ..., 0, 0, 0],\n",
              "       [0, 0, 0, ..., 0, 0, 0],\n",
              "       [0, 0, 0, ..., 0, 0, 0]])"
            ]
          },
          "metadata": {
            "tags": []
          },
          "execution_count": 82
        }
      ]
    },
    {
      "cell_type": "code",
      "metadata": {
        "id": "vG46Ys6Xasdh",
        "colab_type": "code",
        "colab": {}
      },
      "source": [
        "a= np.array(grad_cam_total)"
      ],
      "execution_count": 83,
      "outputs": []
    },
    {
      "cell_type": "code",
      "metadata": {
        "id": "xw6UFwoiazOY",
        "colab_type": "code",
        "colab": {}
      },
      "source": [
        "a=a.reshape(-1,8)\n",
        "b = a.argmax(axis=1)"
      ],
      "execution_count": 84,
      "outputs": []
    },
    {
      "cell_type": "code",
      "metadata": {
        "id": "_n2wZu1Ua39t",
        "colab_type": "code",
        "colab": {
          "base_uri": "https://localhost:8080/",
          "height": 175
        },
        "outputId": "b845b964-d6aa-411a-fa47-318a0fb93857"
      },
      "source": [
        "pd.Series(b).value_counts()"
      ],
      "execution_count": 85,
      "outputs": [
        {
          "output_type": "execute_result",
          "data": {
            "text/plain": [
              "4    11993\n",
              "3     6114\n",
              "5      523\n",
              "0      443\n",
              "7      415\n",
              "1      306\n",
              "6      135\n",
              "2       71\n",
              "dtype: int64"
            ]
          },
          "metadata": {
            "tags": []
          },
          "execution_count": 85
        }
      ]
    },
    {
      "cell_type": "code",
      "metadata": {
        "id": "ybSetPmibMhp",
        "colab_type": "code",
        "colab": {}
      },
      "source": [
        "test_sample = test_list[:20000]\n",
        "sample_pred = test_pred[:20000]"
      ],
      "execution_count": 86,
      "outputs": []
    },
    {
      "cell_type": "code",
      "metadata": {
        "id": "X6eCGbCPcNKa",
        "colab_type": "code",
        "colab": {}
      },
      "source": [
        "merge_sample = pd.concat([test_sample, pd.DataFrame(sample_pred.argmax(axis=1))],axis=1)"
      ],
      "execution_count": 87,
      "outputs": []
    },
    {
      "cell_type": "code",
      "metadata": {
        "id": "cnE2oFDZLE5E",
        "colab_type": "code",
        "colab": {}
      },
      "source": [
        "temp = np.array(grad_cam_total)\n",
        "temp = temp.reshape(-1, 8)"
      ],
      "execution_count": 92,
      "outputs": []
    },
    {
      "cell_type": "code",
      "metadata": {
        "id": "1SDOGQKfcSEv",
        "colab_type": "code",
        "colab": {}
      },
      "source": [
        "merge_sample = pd.concat([merge_sample, pd.DataFrame(temp)],axis=1)"
      ],
      "execution_count": 94,
      "outputs": []
    },
    {
      "cell_type": "code",
      "metadata": {
        "id": "8eMAVjJbLgCj",
        "colab_type": "code",
        "colab": {
          "base_uri": "https://localhost:8080/",
          "height": 590
        },
        "outputId": "1bafcef0-2e75-486f-8813-e2076cc30d62"
      },
      "source": [
        "merge_sample"
      ],
      "execution_count": 95,
      "outputs": [
        {
          "output_type": "execute_result",
          "data": {
            "text/html": [
              "<div>\n",
              "<style scoped>\n",
              "    .dataframe tbody tr th:only-of-type {\n",
              "        vertical-align: middle;\n",
              "    }\n",
              "\n",
              "    .dataframe tbody tr th {\n",
              "        vertical-align: top;\n",
              "    }\n",
              "\n",
              "    .dataframe thead th {\n",
              "        text-align: right;\n",
              "    }\n",
              "</style>\n",
              "<table border=\"1\" class=\"dataframe\">\n",
              "  <thead>\n",
              "    <tr style=\"text-align: right;\">\n",
              "      <th></th>\n",
              "      <th>call_id</th>\n",
              "      <th>serving_network</th>\n",
              "      <th>sampled_time</th>\n",
              "      <th>call_type</th>\n",
              "      <th>total_call_state</th>\n",
              "      <th>nr5g_Rsrp</th>\n",
              "      <th>nr5g_Sinr</th>\n",
              "      <th>nr5g_TxPwrTotal_Actual</th>\n",
              "      <th>nr5g_Pdsch_Bler</th>\n",
              "      <th>nr5g_pc_pusch_bler</th>\n",
              "      <th>nr5g_DlMcs_Ant0_Avg</th>\n",
              "      <th>nr5g_Rx_NumOfRb_Avg</th>\n",
              "      <th>nr5g_UlMcs_Avg</th>\n",
              "      <th>data_ex_rx_thravg</th>\n",
              "      <th>data_ftp_rx_tp</th>\n",
              "      <th>result</th>\n",
              "      <th>0</th>\n",
              "      <th>0</th>\n",
              "      <th>1</th>\n",
              "      <th>2</th>\n",
              "      <th>3</th>\n",
              "      <th>4</th>\n",
              "      <th>5</th>\n",
              "      <th>6</th>\n",
              "      <th>7</th>\n",
              "    </tr>\n",
              "  </thead>\n",
              "  <tbody>\n",
              "    <tr>\n",
              "      <th>0</th>\n",
              "      <td>20200102082809010348629670036</td>\n",
              "      <td>NRNSA(NR+LTE)</td>\n",
              "      <td>2020-01-02 08:28:16</td>\n",
              "      <td>D</td>\n",
              "      <td>T-3ì´ ê³ì°êµ¬ê°</td>\n",
              "      <td>-73.80</td>\n",
              "      <td>2.75</td>\n",
              "      <td>23.0</td>\n",
              "      <td>26.251</td>\n",
              "      <td>3.388</td>\n",
              "      <td>16.077</td>\n",
              "      <td>261.54</td>\n",
              "      <td>25.819</td>\n",
              "      <td>363.128</td>\n",
              "      <td>551.155</td>\n",
              "      <td>0</td>\n",
              "      <td>0</td>\n",
              "      <td>0.000000</td>\n",
              "      <td>0.031127</td>\n",
              "      <td>0.000000</td>\n",
              "      <td>0.168666</td>\n",
              "      <td>0.203635</td>\n",
              "      <td>0.000000</td>\n",
              "      <td>0.000000</td>\n",
              "      <td>0.000000</td>\n",
              "    </tr>\n",
              "    <tr>\n",
              "      <th>1</th>\n",
              "      <td>20200102082809010348629670036</td>\n",
              "      <td>NRNSA(NR+LTE)</td>\n",
              "      <td>2020-01-02 08:28:17</td>\n",
              "      <td>D</td>\n",
              "      <td>T-3ì´ ê³ì°êµ¬ê°</td>\n",
              "      <td>-70.42</td>\n",
              "      <td>6.66</td>\n",
              "      <td>23.0</td>\n",
              "      <td>13.269</td>\n",
              "      <td>0.433</td>\n",
              "      <td>11.267</td>\n",
              "      <td>270.82</td>\n",
              "      <td>27.219</td>\n",
              "      <td>363.128</td>\n",
              "      <td>187.284</td>\n",
              "      <td>1</td>\n",
              "      <td>0</td>\n",
              "      <td>0.000000</td>\n",
              "      <td>0.000410</td>\n",
              "      <td>0.000000</td>\n",
              "      <td>0.164546</td>\n",
              "      <td>0.177759</td>\n",
              "      <td>0.100673</td>\n",
              "      <td>0.000000</td>\n",
              "      <td>0.000000</td>\n",
              "    </tr>\n",
              "    <tr>\n",
              "      <th>2</th>\n",
              "      <td>20200102082809010348629670036</td>\n",
              "      <td>NRNSA(NR+LTE)</td>\n",
              "      <td>2020-01-02 08:28:18</td>\n",
              "      <td>D</td>\n",
              "      <td>T-3ì´ ê³ì°êµ¬ê°</td>\n",
              "      <td>-74.51</td>\n",
              "      <td>4.08</td>\n",
              "      <td>23.0</td>\n",
              "      <td>8.833</td>\n",
              "      <td>1.215</td>\n",
              "      <td>16.136</td>\n",
              "      <td>271.85</td>\n",
              "      <td>27.525</td>\n",
              "      <td>363.128</td>\n",
              "      <td>446.872</td>\n",
              "      <td>0</td>\n",
              "      <td>0</td>\n",
              "      <td>0.000000</td>\n",
              "      <td>0.000178</td>\n",
              "      <td>0.000000</td>\n",
              "      <td>0.002072</td>\n",
              "      <td>0.002149</td>\n",
              "      <td>0.000030</td>\n",
              "      <td>0.000000</td>\n",
              "      <td>0.000000</td>\n",
              "    </tr>\n",
              "    <tr>\n",
              "      <th>3</th>\n",
              "      <td>20200102082809010348629670036</td>\n",
              "      <td>NRNSA(NR+LTE)</td>\n",
              "      <td>2020-01-02 08:28:19</td>\n",
              "      <td>D</td>\n",
              "      <td>T-3ì´ ê³ì°êµ¬ê°</td>\n",
              "      <td>-77.49</td>\n",
              "      <td>5.17</td>\n",
              "      <td>23.0</td>\n",
              "      <td>11.207</td>\n",
              "      <td>0.367</td>\n",
              "      <td>21.885</td>\n",
              "      <td>271.35</td>\n",
              "      <td>27.688</td>\n",
              "      <td>363.128</td>\n",
              "      <td>535.604</td>\n",
              "      <td>0</td>\n",
              "      <td>0</td>\n",
              "      <td>0.000046</td>\n",
              "      <td>0.000045</td>\n",
              "      <td>0.000000</td>\n",
              "      <td>0.000617</td>\n",
              "      <td>0.000655</td>\n",
              "      <td>0.000000</td>\n",
              "      <td>0.000000</td>\n",
              "      <td>0.000000</td>\n",
              "    </tr>\n",
              "    <tr>\n",
              "      <th>4</th>\n",
              "      <td>20200102082809010348629670036</td>\n",
              "      <td>NRNSA(NR+LTE)</td>\n",
              "      <td>2020-01-02 08:28:20</td>\n",
              "      <td>D</td>\n",
              "      <td>T-3ì´ ê³ì°êµ¬ê°</td>\n",
              "      <td>-78.06</td>\n",
              "      <td>5.29</td>\n",
              "      <td>23.0</td>\n",
              "      <td>9.466</td>\n",
              "      <td>0.012</td>\n",
              "      <td>19.022</td>\n",
              "      <td>271.60</td>\n",
              "      <td>27.382</td>\n",
              "      <td>363.128</td>\n",
              "      <td>493.387</td>\n",
              "      <td>0</td>\n",
              "      <td>0</td>\n",
              "      <td>0.000000</td>\n",
              "      <td>0.000020</td>\n",
              "      <td>0.000000</td>\n",
              "      <td>0.000750</td>\n",
              "      <td>0.000786</td>\n",
              "      <td>0.000000</td>\n",
              "      <td>0.000000</td>\n",
              "      <td>0.000000</td>\n",
              "    </tr>\n",
              "    <tr>\n",
              "      <th>...</th>\n",
              "      <td>...</td>\n",
              "      <td>...</td>\n",
              "      <td>...</td>\n",
              "      <td>...</td>\n",
              "      <td>...</td>\n",
              "      <td>...</td>\n",
              "      <td>...</td>\n",
              "      <td>...</td>\n",
              "      <td>...</td>\n",
              "      <td>...</td>\n",
              "      <td>...</td>\n",
              "      <td>...</td>\n",
              "      <td>...</td>\n",
              "      <td>...</td>\n",
              "      <td>...</td>\n",
              "      <td>...</td>\n",
              "      <td>...</td>\n",
              "      <td>...</td>\n",
              "      <td>...</td>\n",
              "      <td>...</td>\n",
              "      <td>...</td>\n",
              "      <td>...</td>\n",
              "      <td>...</td>\n",
              "      <td>...</td>\n",
              "      <td>...</td>\n",
              "    </tr>\n",
              "    <tr>\n",
              "      <th>19995</th>\n",
              "      <td>20200217095636010348626930077</td>\n",
              "      <td>NRNSA(NR+LTE)</td>\n",
              "      <td>2020-02-17 09:56:44</td>\n",
              "      <td>D</td>\n",
              "      <td>T-3ì´ ê³ì°êµ¬ê°</td>\n",
              "      <td>-86.64</td>\n",
              "      <td>10.30</td>\n",
              "      <td>8.5</td>\n",
              "      <td>10.996</td>\n",
              "      <td>19.492</td>\n",
              "      <td>14.995</td>\n",
              "      <td>233.00</td>\n",
              "      <td>20.917</td>\n",
              "      <td>457.411</td>\n",
              "      <td>363.387</td>\n",
              "      <td>0</td>\n",
              "      <td>1</td>\n",
              "      <td>0.012902</td>\n",
              "      <td>0.019182</td>\n",
              "      <td>0.014157</td>\n",
              "      <td>0.031817</td>\n",
              "      <td>0.031642</td>\n",
              "      <td>0.010732</td>\n",
              "      <td>0.001094</td>\n",
              "      <td>0.017840</td>\n",
              "    </tr>\n",
              "    <tr>\n",
              "      <th>19996</th>\n",
              "      <td>20200217095636010348626930077</td>\n",
              "      <td>NRNSA(NR+LTE)</td>\n",
              "      <td>2020-02-17 09:56:45</td>\n",
              "      <td>D</td>\n",
              "      <td>T-3ì´ ê³ì°êµ¬ê°</td>\n",
              "      <td>-89.17</td>\n",
              "      <td>9.70</td>\n",
              "      <td>10.8</td>\n",
              "      <td>10.751</td>\n",
              "      <td>14.025</td>\n",
              "      <td>15.756</td>\n",
              "      <td>246.00</td>\n",
              "      <td>19.653</td>\n",
              "      <td>457.411</td>\n",
              "      <td>485.130</td>\n",
              "      <td>0</td>\n",
              "      <td>0</td>\n",
              "      <td>0.032953</td>\n",
              "      <td>0.027884</td>\n",
              "      <td>0.008406</td>\n",
              "      <td>0.079698</td>\n",
              "      <td>0.078456</td>\n",
              "      <td>0.017333</td>\n",
              "      <td>0.000000</td>\n",
              "      <td>0.027670</td>\n",
              "    </tr>\n",
              "    <tr>\n",
              "      <th>19997</th>\n",
              "      <td>20200217095636010348626930077</td>\n",
              "      <td>NRNSA(NR+LTE)</td>\n",
              "      <td>2020-02-17 09:56:46</td>\n",
              "      <td>D</td>\n",
              "      <td>T-3ì´ ê³ì°êµ¬ê°</td>\n",
              "      <td>-88.43</td>\n",
              "      <td>9.37</td>\n",
              "      <td>10.8</td>\n",
              "      <td>9.500</td>\n",
              "      <td>11.631</td>\n",
              "      <td>13.853</td>\n",
              "      <td>257.00</td>\n",
              "      <td>18.392</td>\n",
              "      <td>457.411</td>\n",
              "      <td>484.445</td>\n",
              "      <td>0</td>\n",
              "      <td>0</td>\n",
              "      <td>0.011110</td>\n",
              "      <td>0.006218</td>\n",
              "      <td>0.000000</td>\n",
              "      <td>0.038672</td>\n",
              "      <td>0.038100</td>\n",
              "      <td>0.009480</td>\n",
              "      <td>0.000000</td>\n",
              "      <td>0.005406</td>\n",
              "    </tr>\n",
              "    <tr>\n",
              "      <th>19998</th>\n",
              "      <td>20200217095636010348626930077</td>\n",
              "      <td>NRNSA(NR+LTE)</td>\n",
              "      <td>2020-02-17 09:56:47</td>\n",
              "      <td>D</td>\n",
              "      <td>T-3ì´ ê³ì°êµ¬ê°</td>\n",
              "      <td>-85.99</td>\n",
              "      <td>10.64</td>\n",
              "      <td>8.8</td>\n",
              "      <td>8.954</td>\n",
              "      <td>11.339</td>\n",
              "      <td>14.411</td>\n",
              "      <td>257.00</td>\n",
              "      <td>17.720</td>\n",
              "      <td>457.411</td>\n",
              "      <td>557.662</td>\n",
              "      <td>0</td>\n",
              "      <td>0</td>\n",
              "      <td>0.005898</td>\n",
              "      <td>0.002663</td>\n",
              "      <td>0.000000</td>\n",
              "      <td>0.033499</td>\n",
              "      <td>0.032889</td>\n",
              "      <td>0.005736</td>\n",
              "      <td>0.000000</td>\n",
              "      <td>0.003643</td>\n",
              "    </tr>\n",
              "    <tr>\n",
              "      <th>19999</th>\n",
              "      <td>20200217095636010348626930077</td>\n",
              "      <td>NRNSA(NR+LTE)</td>\n",
              "      <td>2020-02-17 09:56:48</td>\n",
              "      <td>D</td>\n",
              "      <td>T-3ì´ ê³ì°êµ¬ê°</td>\n",
              "      <td>-83.08</td>\n",
              "      <td>12.02</td>\n",
              "      <td>7.0</td>\n",
              "      <td>9.529</td>\n",
              "      <td>15.691</td>\n",
              "      <td>15.698</td>\n",
              "      <td>258.00</td>\n",
              "      <td>19.759</td>\n",
              "      <td>457.411</td>\n",
              "      <td>586.874</td>\n",
              "      <td>0</td>\n",
              "      <td>0</td>\n",
              "      <td>0.000789</td>\n",
              "      <td>0.000231</td>\n",
              "      <td>0.000000</td>\n",
              "      <td>0.007953</td>\n",
              "      <td>0.007568</td>\n",
              "      <td>0.000771</td>\n",
              "      <td>0.000000</td>\n",
              "      <td>0.000854</td>\n",
              "    </tr>\n",
              "  </tbody>\n",
              "</table>\n",
              "<p>20000 rows × 25 columns</p>\n",
              "</div>"
            ],
            "text/plain": [
              "                             call_id serving_network  ...         6         7\n",
              "0      20200102082809010348629670036   NRNSA(NR+LTE)  ...  0.000000  0.000000\n",
              "1      20200102082809010348629670036   NRNSA(NR+LTE)  ...  0.000000  0.000000\n",
              "2      20200102082809010348629670036   NRNSA(NR+LTE)  ...  0.000000  0.000000\n",
              "3      20200102082809010348629670036   NRNSA(NR+LTE)  ...  0.000000  0.000000\n",
              "4      20200102082809010348629670036   NRNSA(NR+LTE)  ...  0.000000  0.000000\n",
              "...                              ...             ...  ...       ...       ...\n",
              "19995  20200217095636010348626930077   NRNSA(NR+LTE)  ...  0.001094  0.017840\n",
              "19996  20200217095636010348626930077   NRNSA(NR+LTE)  ...  0.000000  0.027670\n",
              "19997  20200217095636010348626930077   NRNSA(NR+LTE)  ...  0.000000  0.005406\n",
              "19998  20200217095636010348626930077   NRNSA(NR+LTE)  ...  0.000000  0.003643\n",
              "19999  20200217095636010348626930077   NRNSA(NR+LTE)  ...  0.000000  0.000854\n",
              "\n",
              "[20000 rows x 25 columns]"
            ]
          },
          "metadata": {
            "tags": []
          },
          "execution_count": 95
        }
      ]
    },
    {
      "cell_type": "code",
      "metadata": {
        "id": "pe2fbnOELkE6",
        "colab_type": "code",
        "colab": {}
      },
      "source": [
        "test_file = r'/content/drive/My Drive/WORK/test_result.csv'\n",
        "merge_sample.to_csv(test_file , encoding='utf8')"
      ],
      "execution_count": 98,
      "outputs": []
    },
    {
      "cell_type": "code",
      "metadata": {
        "id": "_O9JQzQqL1uz",
        "colab_type": "code",
        "colab": {}
      },
      "source": [
        ""
      ],
      "execution_count": null,
      "outputs": []
    }
  ]
}